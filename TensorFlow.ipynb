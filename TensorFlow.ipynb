{
  "nbformat": 4,
  "nbformat_minor": 0,
  "metadata": {
    "colab": {
      "name": "TensorFlow.ipynb",
      "version": "0.3.2",
      "provenance": [],
      "include_colab_link": true
    },
    "kernelspec": {
      "name": "python3",
      "display_name": "Python 3"
    },
    "accelerator": "GPU"
  },
  "cells": [
    {
      "cell_type": "markdown",
      "metadata": {
        "id": "view-in-github",
        "colab_type": "text"
      },
      "source": [
        "<a href=\"https://colab.research.google.com/github/priyanshiyadavnitsgr/TensorFlow/blob/master/TensorFlow.ipynb\" target=\"_parent\"><img src=\"https://colab.research.google.com/assets/colab-badge.svg\" alt=\"Open In Colab\"/></a>"
      ]
    },
    {
      "cell_type": "code",
      "metadata": {
        "id": "ZeafMJeEh8Vt",
        "colab_type": "code",
        "colab": {}
      },
      "source": [
        "import pandas as pd"
      ],
      "execution_count": 0,
      "outputs": []
    },
    {
      "cell_type": "code",
      "metadata": {
        "id": "6qalFumfiC_0",
        "colab_type": "code",
        "colab": {}
      },
      "source": [
        "import numpy as np\n",
        "import tensorflow as tf"
      ],
      "execution_count": 0,
      "outputs": []
    },
    {
      "cell_type": "code",
      "metadata": {
        "id": "5ujbJfLwiHFK",
        "colab_type": "code",
        "colab": {}
      },
      "source": [
        "rand_a=np.random.uniform(0, 100, size=(5,5))\n",
        "rand_b=np.random.uniform(0, 100, size=(5,1))"
      ],
      "execution_count": 0,
      "outputs": []
    },
    {
      "cell_type": "code",
      "metadata": {
        "id": "I0WqLsbUjZvi",
        "colab_type": "code",
        "outputId": "3e8f6e01-baf0-4af6-efaf-5e1270fa8026",
        "colab": {
          "base_uri": "https://localhost:8080/",
          "height": 101
        }
      },
      "source": [
        "rand_a\n"
      ],
      "execution_count": 6,
      "outputs": [
        {
          "output_type": "execute_result",
          "data": {
            "text/plain": [
              "array([[89.69529151, 96.7836252 , 11.57875074, 51.04299332, 42.41070898],\n",
              "       [64.56761823, 65.91279301, 12.2388343 , 84.17215916, 64.36429159],\n",
              "       [ 6.69330817, 24.37390448, 24.09607225, 26.48200603, 76.34204189],\n",
              "       [66.9860843 , 38.33434712, 94.7243828 , 79.987202  , 52.78242548],\n",
              "       [14.39089379, 29.51965577, 52.25281233, 32.17837249, 50.50466747]])"
            ]
          },
          "metadata": {
            "tags": []
          },
          "execution_count": 6
        }
      ]
    },
    {
      "cell_type": "code",
      "metadata": {
        "id": "x0-4GnaBrKqB",
        "colab_type": "code",
        "outputId": "aad1f08d-07f6-4933-a739-d673be131f03",
        "colab": {
          "base_uri": "https://localhost:8080/",
          "height": 101
        }
      },
      "source": [
        "rand_b"
      ],
      "execution_count": 7,
      "outputs": [
        {
          "output_type": "execute_result",
          "data": {
            "text/plain": [
              "array([[75.16904149],\n",
              "       [34.25785441],\n",
              "       [57.0794147 ],\n",
              "       [13.06811325],\n",
              "       [78.94038612]])"
            ]
          },
          "metadata": {
            "tags": []
          },
          "execution_count": 7
        }
      ]
    },
    {
      "cell_type": "code",
      "metadata": {
        "id": "NaFJZsLCjM0t",
        "colab_type": "code",
        "colab": {}
      },
      "source": [
        "a=tf.placeholder(tf.float32)\n",
        "b=tf.placeholder(tf.float32)"
      ],
      "execution_count": 0,
      "outputs": []
    },
    {
      "cell_type": "code",
      "metadata": {
        "id": "691FSlU6jf98",
        "colab_type": "code",
        "colab": {}
      },
      "source": [
        "tf.InteractiveSession()\n",
        "init=tf.global_variables_initializer()"
      ],
      "execution_count": 0,
      "outputs": []
    },
    {
      "cell_type": "code",
      "metadata": {
        "id": "TUPx2Wjjkaz9",
        "colab_type": "code",
        "colab": {}
      },
      "source": [
        "add_op=a+b"
      ],
      "execution_count": 0,
      "outputs": []
    },
    {
      "cell_type": "code",
      "metadata": {
        "id": "0G9BjNijkhY1",
        "colab_type": "code",
        "colab": {}
      },
      "source": [
        "mul_op=a*b"
      ],
      "execution_count": 0,
      "outputs": []
    },
    {
      "cell_type": "code",
      "metadata": {
        "id": "XFnXlpcnrXQH",
        "colab_type": "code",
        "colab": {
          "base_uri": "https://localhost:8080/",
          "height": 218
        },
        "outputId": "a5d0832b-2f90-4956-a5a5-49a27cc856a0"
      },
      "source": [
        "with tf.Session() as session:\n",
        "  add_result=session.run(add_op, feed_dict={a:rand_a, b:rand_b})\n",
        "  print(add_result)\n",
        "  \n",
        "  print('\\n')\n",
        "  \n",
        "  mul_result=session.run(mul_op, feed_dict={a:rand_a, b:rand_b})\n",
        "  print(mul_result)\n",
        "  \n",
        "  "
      ],
      "execution_count": 12,
      "outputs": [
        {
          "output_type": "stream",
          "text": [
            "[[164.86433  171.95267   86.747795 126.212036 117.57976 ]\n",
            " [ 98.82547  100.170654  46.49669  118.43001   98.62215 ]\n",
            " [ 63.772724  81.45332   81.17549   83.56142  133.42145 ]\n",
            " [ 80.0542    51.40246  107.792496  93.05532   65.85054 ]\n",
            " [ 93.331276 108.46004  131.19319  111.11876  129.44505 ]]\n",
            "\n",
            "\n",
            "[[6742.309   7275.1323   870.36365 3836.853   3187.9724 ]\n",
            " [2211.948   2258.031    419.2762  2883.5576  2204.9824 ]\n",
            " [ 382.0501  1391.2483  1375.3898  1511.5774  4357.559  ]\n",
            " [ 875.3817   500.95758 1237.8689  1045.2819   689.7667 ]\n",
            " [1136.0227  2330.293   4124.857   2540.173   3986.858  ]]\n"
          ],
          "name": "stdout"
        }
      ]
    },
    {
      "cell_type": "markdown",
      "metadata": {
        "id": "r2j3jJ6fugak",
        "colab_type": "text"
      },
      "source": [
        "### ANN Construction using tensor Flow"
      ]
    },
    {
      "cell_type": "code",
      "metadata": {
        "id": "9yJ8EXyc1Cir",
        "colab_type": "code",
        "colab": {}
      },
      "source": [
        "tf.reset_default_graph()"
      ],
      "execution_count": 0,
      "outputs": []
    },
    {
      "cell_type": "code",
      "metadata": {
        "id": "OF38jmFnrxEY",
        "colab_type": "code",
        "colab": {}
      },
      "source": [
        "n_features=10\n",
        "n_dense=3"
      ],
      "execution_count": 0,
      "outputs": []
    },
    {
      "cell_type": "code",
      "metadata": {
        "id": "a5ZROUcqukuk",
        "colab_type": "code",
        "colab": {}
      },
      "source": [
        "x=tf.placeholder(tf.float32, shape=(None, n_features))"
      ],
      "execution_count": 0,
      "outputs": []
    },
    {
      "cell_type": "code",
      "metadata": {
        "id": "kRCJ3Fsruz_u",
        "colab_type": "code",
        "colab": {}
      },
      "source": [
        "w=tf.Variable(tf.random_normal([n_features, n_dense]))\n",
        "b=tf.Variable(tf.random_normal([n_dense]))"
      ],
      "execution_count": 0,
      "outputs": []
    },
    {
      "cell_type": "code",
      "metadata": {
        "id": "Bnz2znRQxdf6",
        "colab_type": "code",
        "colab": {
          "base_uri": "https://localhost:8080/",
          "height": 34
        },
        "outputId": "e12067d8-d025-4966-8993-fdb89b700986"
      },
      "source": [
        "wx=tf.matmul(x, w)\n",
        "wx"
      ],
      "execution_count": 42,
      "outputs": [
        {
          "output_type": "execute_result",
          "data": {
            "text/plain": [
              "<tf.Tensor 'MatMul:0' shape=(?, 3) dtype=float32>"
            ]
          },
          "metadata": {
            "tags": []
          },
          "execution_count": 42
        }
      ]
    },
    {
      "cell_type": "code",
      "metadata": {
        "id": "zW6pfXXsxjgX",
        "colab_type": "code",
        "colab": {}
      },
      "source": [
        "z=tf.add(wx,b)"
      ],
      "execution_count": 0,
      "outputs": []
    },
    {
      "cell_type": "code",
      "metadata": {
        "id": "dfSIXo1QxnrZ",
        "colab_type": "code",
        "colab": {}
      },
      "source": [
        "a=tf.sigmoid(z)"
      ],
      "execution_count": 0,
      "outputs": []
    },
    {
      "cell_type": "code",
      "metadata": {
        "id": "VdgUFtU5x51S",
        "colab_type": "code",
        "colab": {}
      },
      "source": [
        "init=tf.global_variables_initializer()"
      ],
      "execution_count": 0,
      "outputs": []
    },
    {
      "cell_type": "code",
      "metadata": {
        "id": "4gybDE-j0Llz",
        "colab_type": "code",
        "colab": {
          "base_uri": "https://localhost:8080/",
          "height": 70
        },
        "outputId": "4763d091-b6c6-46cc-9142-070ed8469049"
      },
      "source": [
        "sess = tf.InteractiveSession()"
      ],
      "execution_count": 51,
      "outputs": [
        {
          "output_type": "stream",
          "text": [
            "/usr/local/lib/python3.6/dist-packages/tensorflow/python/client/session.py:1735: UserWarning: An interactive session is already active. This can cause out-of-memory errors in some cases. You must explicitly call `InteractiveSession.close()` to release resources held by the other session(s).\n",
            "  warnings.warn('An interactive session is already active. This can '\n"
          ],
          "name": "stderr"
        }
      ]
    },
    {
      "cell_type": "code",
      "metadata": {
        "id": "p34oQWyQx6Xv",
        "colab_type": "code",
        "colab": {}
      },
      "source": [
        "with tf.Session() as sess:\n",
        "  sess.run(init)\n",
        "  out_layer=sess.run(a, feed_dict={x : np.random.random([1, n_features])})"
      ],
      "execution_count": 0,
      "outputs": []
    },
    {
      "cell_type": "code",
      "metadata": {
        "id": "9e8PoXSbyvhK",
        "colab_type": "code",
        "colab": {
          "base_uri": "https://localhost:8080/",
          "height": 34
        },
        "outputId": "d5f84fef-0de9-44e0-9904-fa3ee6967375"
      },
      "source": [
        "out_layer"
      ],
      "execution_count": 53,
      "outputs": [
        {
          "output_type": "execute_result",
          "data": {
            "text/plain": [
              "array([[0.30040544, 0.93228984, 0.8098548 ]], dtype=float32)"
            ]
          },
          "metadata": {
            "tags": []
          },
          "execution_count": 53
        }
      ]
    },
    {
      "cell_type": "markdown",
      "metadata": {
        "id": "_E7XEZPe1XnD",
        "colab_type": "text"
      },
      "source": [
        "### Linear Regression"
      ]
    },
    {
      "cell_type": "code",
      "metadata": {
        "id": "LiYZlX-xzbXt",
        "colab_type": "code",
        "colab": {}
      },
      "source": [
        "x_train=np.linspace(0,10, 10)+ np.random.uniform(-1.5, 1.5, 10)\n",
        "y_train=np.linspace(0,10, 10)+ np.random.uniform(-1.5, 1.5, 10)\n"
      ],
      "execution_count": 0,
      "outputs": []
    },
    {
      "cell_type": "code",
      "metadata": {
        "id": "id2JqR6h5IZW",
        "colab_type": "code",
        "colab": {
          "base_uri": "https://localhost:8080/",
          "height": 286
        },
        "outputId": "cd1fb021-cb82-4f3a-b481-5115441b054f"
      },
      "source": [
        "import matplotlib.pyplot as plt\n",
        "plt.plot(x_train, y_train, '*')"
      ],
      "execution_count": 55,
      "outputs": [
        {
          "output_type": "execute_result",
          "data": {
            "text/plain": [
              "[<matplotlib.lines.Line2D at 0x7f4e30153f28>]"
            ]
          },
          "metadata": {
            "tags": []
          },
          "execution_count": 55
        },
        {
          "output_type": "display_data",
          "data": {
            "image/png": "[encoded data removed]",
            "text/plain": [
              "<Figure size 432x288 with 1 Axes>"
            ]
          },
          "metadata": {
            "tags": []
          }
        }
      ]
    },
    {
      "cell_type": "code",
      "metadata": {
        "id": "OCLfluxR5Obm",
        "colab_type": "code",
        "colab": {
          "base_uri": "https://localhost:8080/",
          "height": 34
        },
        "outputId": "411bf522-1c22-4f6a-d407-efe3f1bf7454"
      },
      "source": [
        "np.random.rand(2)"
      ],
      "execution_count": 56,
      "outputs": [
        {
          "output_type": "execute_result",
          "data": {
            "text/plain": [
              "array([0.31984058, 0.66990099])"
            ]
          },
          "metadata": {
            "tags": []
          },
          "execution_count": 56
        }
      ]
    },
    {
      "cell_type": "code",
      "metadata": {
        "id": "KSUnDsLK5hQ1",
        "colab_type": "code",
        "colab": {}
      },
      "source": [
        "m=tf.Variable(0.32)\n",
        "c=tf.Variable(0.67)"
      ],
      "execution_count": 0,
      "outputs": []
    },
    {
      "cell_type": "code",
      "metadata": {
        "id": "wMZJ-mN25tXj",
        "colab_type": "code",
        "colab": {}
      },
      "source": [
        "error=0\n",
        "\n",
        "for x, y in zip(x_train, y_train):\n",
        "  y_hat=x*m+c\n",
        "  error+=(y-y_hat)**2"
      ],
      "execution_count": 0,
      "outputs": []
    },
    {
      "cell_type": "code",
      "metadata": {
        "id": "TJn5FVHi6Cwi",
        "colab_type": "code",
        "colab": {
          "base_uri": "https://localhost:8080/",
          "height": 87
        },
        "outputId": "7c7b0b52-6619-4d4c-9b2a-3d14361b8504"
      },
      "source": [
        "optimizer=tf.train.GradientDescentOptimizer(learning_rate=0.001)\n",
        "train=optimizer.minimize(error)"
      ],
      "execution_count": 59,
      "outputs": [
        {
          "output_type": "stream",
          "text": [
            "WARNING:tensorflow:From /usr/local/lib/python3.6/dist-packages/tensorflow/python/ops/math_grad.py:1205: add_dispatch_support.<locals>.wrapper (from tensorflow.python.ops.array_ops) is deprecated and will be removed in a future version.\n",
            "Instructions for updating:\n",
            "Use tf.where in 2.0, which has the same broadcast rule as np.where\n"
          ],
          "name": "stdout"
        }
      ]
    },
    {
      "cell_type": "code",
      "metadata": {
        "id": "5RT9ZUEH608y",
        "colab_type": "code",
        "colab": {}
      },
      "source": [
        "init=tf.global_variables_initializer()"
      ],
      "execution_count": 0,
      "outputs": []
    },
    {
      "cell_type": "code",
      "metadata": {
        "id": "zFj3cUev7TTs",
        "colab_type": "code",
        "colab": {}
      },
      "source": [
        "with tf.Session() as session:\n",
        "  session.run(init)\n",
        "  learning=100\n",
        "  for i in range(learning):\n",
        "    session.run(train)\n",
        "  pred_slope, pred_intercept=session.run([m, c])"
      ],
      "execution_count": 0,
      "outputs": []
    },
    {
      "cell_type": "code",
      "metadata": {
        "id": "LrJI50pX8pJg",
        "colab_type": "code",
        "colab": {
          "base_uri": "https://localhost:8080/",
          "height": 34
        },
        "outputId": "6c3ceeb7-c1cb-4d5b-e5e2-fade5a27db79"
      },
      "source": [
        "pred_slope, pred_intercept"
      ],
      "execution_count": 83,
      "outputs": [
        {
          "output_type": "execute_result",
          "data": {
            "text/plain": [
              "(0.7843203, 1.0583988)"
            ]
          },
          "metadata": {
            "tags": []
          },
          "execution_count": 83
        }
      ]
    },
    {
      "cell_type": "code",
      "metadata": {
        "id": "avh75Cia7u-5",
        "colab_type": "code",
        "colab": {}
      },
      "source": [
        "x_test=np.linspace(0,10,10)+np.random.uniform(-0.5,1.5,10)\n",
        "y_pred=pred_slope*x_test + pred_intercept"
      ],
      "execution_count": 0,
      "outputs": []
    },
    {
      "cell_type": "code",
      "metadata": {
        "id": "gzfirMhI8auF",
        "colab_type": "code",
        "colab": {
          "base_uri": "https://localhost:8080/",
          "height": 286
        },
        "outputId": "f58b6b54-4902-4c63-b1f7-0b28c7ad4516"
      },
      "source": [
        "plt.plot(x_test, y_pred, 'r')\n",
        "plt.plot(x_train, y_train, '*')"
      ],
      "execution_count": 85,
      "outputs": [
        {
          "output_type": "execute_result",
          "data": {
            "text/plain": [
              "[<matplotlib.lines.Line2D at 0x7f4de4656550>]"
            ]
          },
          "metadata": {
            "tags": []
          },
          "execution_count": 85
        },
        {
          "output_type": "display_data",
          "data": {
            "image/png": "[encoded data removed]",
            "text/plain": [
              "<Figure size 432x288 with 1 Axes>"
            ]
          },
          "metadata": {
            "tags": []
          }
        }
      ]
    },
    {
      "cell_type": "code",
      "metadata": {
        "id": "B5srgmU_8ga2",
        "colab_type": "code",
        "colab": {}
      },
      "source": [
        ""
      ],
      "execution_count": 0,
      "outputs": []
    }
  ]
}